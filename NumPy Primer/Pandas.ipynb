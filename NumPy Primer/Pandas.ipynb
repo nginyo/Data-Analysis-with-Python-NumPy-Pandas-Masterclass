{
 "cells": [
  {
   "cell_type": "code",
   "execution_count": 1,
   "metadata": {
    "executionInfo": {
     "elapsed": 3022,
     "status": "ok",
     "timestamp": 1674178915397,
     "user": {
      "displayName": "JOHN KARANJA",
      "userId": "12525172849827907466"
     },
     "user_tz": -180
    },
    "id": "mhn-yTVMbFbw"
   },
   "outputs": [],
   "source": [
    "import pandas as pd\n",
    "import numpy as np"
   ]
  },
  {
   "cell_type": "code",
   "execution_count": 2,
   "metadata": {
    "colab": {
     "base_uri": "https://localhost:8080/"
    },
    "executionInfo": {
     "elapsed": 45,
     "status": "ok",
     "timestamp": 1674178915398,
     "user": {
      "displayName": "JOHN KARANJA",
      "userId": "12525172849827907466"
     },
     "user_tz": -180
    },
    "id": "J8XVJbpobLOC",
    "outputId": "5bfed92d-1554-478e-b4c4-7a1aba65a332"
   },
   "outputs": [
    {
     "data": {
      "text/plain": [
       "0    0\n",
       "1    1\n",
       "2    2\n",
       "3    3\n",
       "4    4\n",
       "dtype: int64"
      ]
     },
     "execution_count": 2,
     "metadata": {},
     "output_type": "execute_result"
    }
   ],
   "source": [
    "array=np.arange(5)\n",
    "series=pd.Series(array)\n",
    "series"
   ]
  },
  {
   "cell_type": "code",
   "execution_count": 14,
   "metadata": {
    "colab": {
     "base_uri": "https://localhost:8080/"
    },
    "executionInfo": {
     "elapsed": 39,
     "status": "ok",
     "timestamp": 1674178915398,
     "user": {
      "displayName": "JOHN KARANJA",
      "userId": "12525172849827907466"
     },
     "user_tz": -180
    },
    "id": "klqn3MevcyA9",
    "outputId": "5be83094-09d3-4347-8a5f-010f8626a466"
   },
   "outputs": [
    {
     "data": {
      "text/plain": [
       "2.0"
      ]
     },
     "execution_count": 14,
     "metadata": {},
     "output_type": "execute_result"
    }
   ],
   "source": [
    "series.values.mean()"
   ]
  },
  {
   "cell_type": "code",
   "execution_count": 4,
   "metadata": {
    "colab": {
     "base_uri": "https://localhost:8080/"
    },
    "executionInfo": {
     "elapsed": 35,
     "status": "ok",
     "timestamp": 1674178915399,
     "user": {
      "displayName": "JOHN KARANJA",
      "userId": "12525172849827907466"
     },
     "user_tz": -180
    },
    "id": "EBnji2pBdc3n",
    "outputId": "2d6ed21f-30d2-4ced-8855-d01ebd562851"
   },
   "outputs": [
    {
     "data": {
      "text/plain": [
       "2.0"
      ]
     },
     "execution_count": 4,
     "metadata": {},
     "output_type": "execute_result"
    }
   ],
   "source": [
    "series.mean()"
   ]
  },
  {
   "cell_type": "code",
   "execution_count": 5,
   "metadata": {
    "colab": {
     "base_uri": "https://localhost:8080/"
    },
    "executionInfo": {
     "elapsed": 30,
     "status": "ok",
     "timestamp": 1674178915400,
     "user": {
      "displayName": "JOHN KARANJA",
      "userId": "12525172849827907466"
     },
     "user_tz": -180
    },
    "id": "unOb00SxdzBl",
    "outputId": "dcd12013-a9cf-4272-9c02-ca042c012e21"
   },
   "outputs": [
    {
     "data": {
      "text/plain": [
       "10    0\n",
       "20    1\n",
       "30    2\n",
       "40    3\n",
       "50    4\n",
       "dtype: int64"
      ]
     },
     "execution_count": 5,
     "metadata": {},
     "output_type": "execute_result"
    }
   ],
   "source": [
    "series.index=[10,20,30,40,50]\n",
    "series"
   ]
  },
  {
   "cell_type": "code",
   "execution_count": 6,
   "metadata": {
    "colab": {
     "base_uri": "https://localhost:8080/"
    },
    "executionInfo": {
     "elapsed": 25,
     "status": "ok",
     "timestamp": 1674178915400,
     "user": {
      "displayName": "JOHN KARANJA",
      "userId": "12525172849827907466"
     },
     "user_tz": -180
    },
    "id": "ZcbgirbJd4FG",
    "outputId": "bd970825-48dd-4d5e-e590-722b74496f4e"
   },
   "outputs": [
    {
     "data": {
      "text/plain": [
       "10    0\n",
       "20    1\n",
       "30    2\n",
       "40    3\n",
       "50    4\n",
       "Name: special series, dtype: int64"
      ]
     },
     "execution_count": 6,
     "metadata": {},
     "output_type": "execute_result"
    }
   ],
   "source": [
    "series.name='special series'\n",
    "series"
   ]
  },
  {
   "cell_type": "code",
   "execution_count": 7,
   "metadata": {
    "colab": {
     "base_uri": "https://localhost:8080/"
    },
    "executionInfo": {
     "elapsed": 20,
     "status": "ok",
     "timestamp": 1674178915400,
     "user": {
      "displayName": "JOHN KARANJA",
      "userId": "12525172849827907466"
     },
     "user_tz": -180
    },
    "id": "1ZNqp5XCeKuu",
    "outputId": "417c0521-24ba-4151-c06d-d60255117cdb"
   },
   "outputs": [
    {
     "data": {
      "text/plain": [
       "dtype('int64')"
      ]
     },
     "execution_count": 7,
     "metadata": {},
     "output_type": "execute_result"
    }
   ],
   "source": [
    "series.dtype"
   ]
  },
  {
   "cell_type": "code",
   "execution_count": 8,
   "metadata": {
    "colab": {
     "base_uri": "https://localhost:8080/"
    },
    "executionInfo": {
     "elapsed": 1039,
     "status": "ok",
     "timestamp": 1674178916424,
     "user": {
      "displayName": "JOHN KARANJA",
      "userId": "12525172849827907466"
     },
     "user_tz": -180
    },
    "id": "GBfWffRseVey",
    "outputId": "f8c4690f-06cc-4cb6-987f-146b065e73c8"
   },
   "outputs": [
    {
     "data": {
      "text/plain": [
       "0    0\n",
       "1    1\n",
       "2    2\n",
       "3    3\n",
       "4    4\n",
       "dtype: int64"
      ]
     },
     "execution_count": 8,
     "metadata": {},
     "output_type": "execute_result"
    }
   ],
   "source": [
    "pd.Series(range(5))"
   ]
  },
  {
   "cell_type": "code",
   "execution_count": 9,
   "metadata": {
    "colab": {
     "base_uri": "https://localhost:8080/"
    },
    "executionInfo": {
     "elapsed": 337,
     "status": "ok",
     "timestamp": 1674178916424,
     "user": {
      "displayName": "JOHN KARANJA",
      "userId": "12525172849827907466"
     },
     "user_tz": -180
    },
    "id": "Xv6DbUZefqj8",
    "outputId": "4b77db8f-3f33-42a1-c813-38ee088dc043"
   },
   "outputs": [
    {
     "data": {
      "text/plain": [
       "0    0.0\n",
       "1    1.0\n",
       "2    2.0\n",
       "3    3.0\n",
       "4    4.0\n",
       "dtype: float64"
      ]
     },
     "execution_count": 9,
     "metadata": {},
     "output_type": "execute_result"
    }
   ],
   "source": [
    "pd.Series(range(5)).astype('float')"
   ]
  },
  {
   "cell_type": "code",
   "execution_count": 10,
   "metadata": {
    "colab": {
     "base_uri": "https://localhost:8080/"
    },
    "executionInfo": {
     "elapsed": 333,
     "status": "ok",
     "timestamp": 1674178916425,
     "user": {
      "displayName": "JOHN KARANJA",
      "userId": "12525172849827907466"
     },
     "user_tz": -180
    },
    "id": "oZQyhpmif98w",
    "outputId": "9ebe37d4-a853-4f17-e431-cbdc72604e83"
   },
   "outputs": [
    {
     "data": {
      "text/plain": [
       "0    False\n",
       "1     True\n",
       "2     True\n",
       "3     True\n",
       "4     True\n",
       "dtype: bool"
      ]
     },
     "execution_count": 10,
     "metadata": {},
     "output_type": "execute_result"
    }
   ],
   "source": [
    "pd.Series(range(5)).astype('bool')"
   ]
  },
  {
   "cell_type": "code",
   "execution_count": 11,
   "metadata": {
    "colab": {
     "base_uri": "https://localhost:8080/"
    },
    "executionInfo": {
     "elapsed": 329,
     "status": "ok",
     "timestamp": 1674178916425,
     "user": {
      "displayName": "JOHN KARANJA",
      "userId": "12525172849827907466"
     },
     "user_tz": -180
    },
    "id": "NaLjboipgNow",
    "outputId": "3bc7f982-e395-418f-ba4c-2fe67eb4243e"
   },
   "outputs": [
    {
     "data": {
      "text/plain": [
       "0    0\n",
       "1    1\n",
       "2    2\n",
       "3    3\n",
       "4    4\n",
       "dtype: object"
      ]
     },
     "execution_count": 11,
     "metadata": {},
     "output_type": "execute_result"
    }
   ],
   "source": [
    "pd.Series(range(5)).astype('object')"
   ]
  },
  {
   "cell_type": "code",
   "execution_count": 12,
   "metadata": {
    "colab": {
     "base_uri": "https://localhost:8080/"
    },
    "executionInfo": {
     "elapsed": 325,
     "status": "ok",
     "timestamp": 1674178916426,
     "user": {
      "displayName": "JOHN KARANJA",
      "userId": "12525172849827907466"
     },
     "user_tz": -180
    },
    "id": "iKHTYzZ8gWMY",
    "outputId": "11dab265-149f-442f-c975-9c10dd4dfe41"
   },
   "outputs": [
    {
     "data": {
      "text/plain": [
       "0    0\n",
       "1    1\n",
       "2    2\n",
       "3    3\n",
       "4    4\n",
       "dtype: string"
      ]
     },
     "execution_count": 12,
     "metadata": {},
     "output_type": "execute_result"
    }
   ],
   "source": [
    "pd.Series(range(5)).astype('string')"
   ]
  },
  {
   "cell_type": "code",
   "execution_count": 13,
   "metadata": {
    "colab": {
     "base_uri": "https://localhost:8080/"
    },
    "executionInfo": {
     "elapsed": 321,
     "status": "ok",
     "timestamp": 1674178916426,
     "user": {
      "displayName": "JOHN KARANJA",
      "userId": "12525172849827907466"
     },
     "user_tz": -180
    },
    "id": "wcbExwMHgf9d",
    "outputId": "7ec6e3e7-2a2a-4051-9c93-f30867e534d4"
   },
   "outputs": [
    {
     "data": {
      "text/plain": [
       "0    a\n",
       "1    b\n",
       "2    c\n",
       "3    d\n",
       "dtype: object"
      ]
     },
     "execution_count": 13,
     "metadata": {},
     "output_type": "execute_result"
    }
   ],
   "source": [
    "nam=pd.Series(['a','b','c','d'])\n",
    "nam"
   ]
  },
  {
   "cell_type": "code",
   "execution_count": 14,
   "metadata": {
    "colab": {
     "base_uri": "https://localhost:8080/"
    },
    "executionInfo": {
     "elapsed": 318,
     "status": "ok",
     "timestamp": 1674178916427,
     "user": {
      "displayName": "JOHN KARANJA",
      "userId": "12525172849827907466"
     },
     "user_tz": -180
    },
    "id": "dV2q-Gimg6FZ",
    "outputId": "0e086b1e-2231-4c16-a68d-08f087f8c69b"
   },
   "outputs": [
    {
     "data": {
      "text/plain": [
       "0    a\n",
       "1    b\n",
       "2    c\n",
       "3    d\n",
       "Name: alphabets, dtype: object"
      ]
     },
     "execution_count": 14,
     "metadata": {},
     "output_type": "execute_result"
    }
   ],
   "source": [
    "nam.name='alphabets'\n",
    "nam"
   ]
  },
  {
   "cell_type": "code",
   "execution_count": 15,
   "metadata": {
    "colab": {
     "base_uri": "https://localhost:8080/"
    },
    "executionInfo": {
     "elapsed": 311,
     "status": "ok",
     "timestamp": 1674178916427,
     "user": {
      "displayName": "JOHN KARANJA",
      "userId": "12525172849827907466"
     },
     "user_tz": -180
    },
    "id": "ls84mkxlqfUu",
    "outputId": "cddfc997-372c-4f44-9927-7b793ef40323"
   },
   "outputs": [
    {
     "data": {
      "text/plain": [
       "0      0\n",
       "1      5\n",
       "2    155\n",
       "3      0\n",
       "4    518\n",
       "dtype: int64"
      ]
     },
     "execution_count": 15,
     "metadata": {},
     "output_type": "execute_result"
    }
   ],
   "source": [
    "sales=[0,5,155,0,518]\n",
    "sales_series=pd.Series(sales)\n",
    "sales_series"
   ]
  },
  {
   "cell_type": "code",
   "execution_count": 16,
   "metadata": {
    "colab": {
     "base_uri": "https://localhost:8080/"
    },
    "executionInfo": {
     "elapsed": 309,
     "status": "ok",
     "timestamp": 1674178916428,
     "user": {
      "displayName": "JOHN KARANJA",
      "userId": "12525172849827907466"
     },
     "user_tz": -180
    },
    "id": "CoDfY1ikaG97",
    "outputId": "a4eeac47-ce5d-4079-dbbd-b92eb4f80d4d"
   },
   "outputs": [
    {
     "data": {
      "text/plain": [
       "5"
      ]
     },
     "execution_count": 16,
     "metadata": {},
     "output_type": "execute_result"
    }
   ],
   "source": [
    "sales_series.size"
   ]
  },
  {
   "cell_type": "code",
   "execution_count": 17,
   "metadata": {
    "colab": {
     "base_uri": "https://localhost:8080/"
    },
    "executionInfo": {
     "elapsed": 305,
     "status": "ok",
     "timestamp": 1674178916428,
     "user": {
      "displayName": "JOHN KARANJA",
      "userId": "12525172849827907466"
     },
     "user_tz": -180
    },
    "id": "nEVJF0-0aMX1",
    "outputId": "8ff92a7b-02b5-4cab-d0f2-d870483f34ef"
   },
   "outputs": [
    {
     "data": {
      "text/plain": [
       "155"
      ]
     },
     "execution_count": 17,
     "metadata": {},
     "output_type": "execute_result"
    }
   ],
   "source": [
    "sales_series[2]"
   ]
  },
  {
   "cell_type": "code",
   "execution_count": 18,
   "metadata": {
    "colab": {
     "base_uri": "https://localhost:8080/"
    },
    "executionInfo": {
     "elapsed": 301,
     "status": "ok",
     "timestamp": 1674178916429,
     "user": {
      "displayName": "JOHN KARANJA",
      "userId": "12525172849827907466"
     },
     "user_tz": -180
    },
    "id": "JZ9LvJW7a52D",
    "outputId": "93cbdb3f-2c82-4dd0-ddd9-89624bc22a92"
   },
   "outputs": [
    {
     "data": {
      "text/plain": [
       "2    155\n",
       "3      0\n",
       "dtype: int64"
      ]
     },
     "execution_count": 18,
     "metadata": {},
     "output_type": "execute_result"
    }
   ],
   "source": [
    "sales_series[2:4]"
   ]
  },
  {
   "cell_type": "code",
   "execution_count": 19,
   "metadata": {
    "colab": {
     "base_uri": "https://localhost:8080/"
    },
    "executionInfo": {
     "elapsed": 294,
     "status": "ok",
     "timestamp": 1674178916429,
     "user": {
      "displayName": "JOHN KARANJA",
      "userId": "12525172849827907466"
     },
     "user_tz": -180
    },
    "id": "w9pY0B-UbGwL",
    "outputId": "3bd8dff6-1616-4b76-832e-4ac54fa2c2fa"
   },
   "outputs": [
    {
     "data": {
      "text/plain": [
       "coffee       0\n",
       "bananas      5\n",
       "tea        155\n",
       "coconut      0\n",
       "sugar      518\n",
       "Name: sales, dtype: int64"
      ]
     },
     "execution_count": 19,
     "metadata": {},
     "output_type": "execute_result"
    }
   ],
   "source": [
    "items=['coffee','bananas','tea','coconut','sugar']\n",
    "sales=[0,5,155,0,518]\n",
    "sales_series=pd.Series(sales,index=items,name='sales')\n",
    "sales_series\n"
   ]
  },
  {
   "cell_type": "code",
   "execution_count": 20,
   "metadata": {
    "colab": {
     "base_uri": "https://localhost:8080/"
    },
    "executionInfo": {
     "elapsed": 289,
     "status": "ok",
     "timestamp": 1674178916429,
     "user": {
      "displayName": "JOHN KARANJA",
      "userId": "12525172849827907466"
     },
     "user_tz": -180
    },
    "id": "sonOk5IGb-rT",
    "outputId": "fa835715-f1c9-41ff-883c-40554edd61d0"
   },
   "outputs": [
    {
     "data": {
      "text/plain": [
       "tea        155\n",
       "coconut      0\n",
       "sugar      518\n",
       "Name: sales, dtype: int64"
      ]
     },
     "execution_count": 20,
     "metadata": {},
     "output_type": "execute_result"
    }
   ],
   "source": [
    "sales_series[2:5]"
   ]
  },
  {
   "cell_type": "code",
   "execution_count": 21,
   "metadata": {
    "colab": {
     "base_uri": "https://localhost:8080/"
    },
    "executionInfo": {
     "elapsed": 286,
     "status": "ok",
     "timestamp": 1674178916430,
     "user": {
      "displayName": "JOHN KARANJA",
      "userId": "12525172849827907466"
     },
     "user_tz": -180
    },
    "id": "xa98BloAcGaM",
    "outputId": "b8193d79-3297-41b9-e810-cce3d16cf7d9"
   },
   "outputs": [
    {
     "data": {
      "text/plain": [
       "0    0\n",
       "1    1\n",
       "2    2\n",
       "3    3\n",
       "4    4\n",
       "dtype: int64"
      ]
     },
     "execution_count": 21,
     "metadata": {},
     "output_type": "execute_result"
    }
   ],
   "source": [
    "myseries=pd.Series(range(5))\n",
    "myseries"
   ]
  },
  {
   "cell_type": "code",
   "execution_count": 22,
   "metadata": {
    "colab": {
     "base_uri": "https://localhost:8080/"
    },
    "executionInfo": {
     "elapsed": 282,
     "status": "ok",
     "timestamp": 1674178916430,
     "user": {
      "displayName": "JOHN KARANJA",
      "userId": "12525172849827907466"
     },
     "user_tz": -180
    },
    "id": "3UAaoqakczoH",
    "outputId": "47eef9a5-53ea-43be-accc-31eb0e2c731e"
   },
   "outputs": [
    {
     "data": {
      "text/plain": [
       "3"
      ]
     },
     "execution_count": 22,
     "metadata": {},
     "output_type": "execute_result"
    }
   ],
   "source": [
    "myseries[3]"
   ]
  },
  {
   "cell_type": "code",
   "execution_count": 23,
   "metadata": {
    "colab": {
     "base_uri": "https://localhost:8080/"
    },
    "executionInfo": {
     "elapsed": 277,
     "status": "ok",
     "timestamp": 1674178916431,
     "user": {
      "displayName": "JOHN KARANJA",
      "userId": "12525172849827907466"
     },
     "user_tz": -180
    },
    "id": "wwrT1FXoc41T",
    "outputId": "e94c3664-2261-4fc7-b121-628e768c49a4"
   },
   "outputs": [
    {
     "data": {
      "text/plain": [
       "1    1\n",
       "3    3\n",
       "dtype: int64"
      ]
     },
     "execution_count": 23,
     "metadata": {},
     "output_type": "execute_result"
    }
   ],
   "source": [
    "myseries[1::2]"
   ]
  },
  {
   "cell_type": "code",
   "execution_count": 24,
   "metadata": {
    "executionInfo": {
     "elapsed": 274,
     "status": "ok",
     "timestamp": 1674178916432,
     "user": {
      "displayName": "JOHN KARANJA",
      "userId": "12525172849827907466"
     },
     "user_tz": -180
    },
    "id": "8Yx9Qy6yc-2F"
   },
   "outputs": [],
   "source": [
    "myseries=pd.Series(range(5),index=('day 0','day 1','day 2','day 3','day 4'))"
   ]
  },
  {
   "cell_type": "code",
   "execution_count": 25,
   "metadata": {
    "colab": {
     "base_uri": "https://localhost:8080/"
    },
    "executionInfo": {
     "elapsed": 273,
     "status": "ok",
     "timestamp": 1674178916432,
     "user": {
      "displayName": "JOHN KARANJA",
      "userId": "12525172849827907466"
     },
     "user_tz": -180
    },
    "id": "DGQ1l1GrdgRq",
    "outputId": "c6557a09-eff0-48e3-c47e-bf346eb7b1cf"
   },
   "outputs": [
    {
     "data": {
      "text/plain": [
       "day 0    0\n",
       "day 1    1\n",
       "day 2    2\n",
       "day 3    3\n",
       "day 4    4\n",
       "dtype: int64"
      ]
     },
     "execution_count": 25,
     "metadata": {},
     "output_type": "execute_result"
    }
   ],
   "source": [
    "myseries  "
   ]
  },
  {
   "cell_type": "code",
   "execution_count": 26,
   "metadata": {
    "colab": {
     "base_uri": "https://localhost:8080/"
    },
    "executionInfo": {
     "elapsed": 270,
     "status": "ok",
     "timestamp": 1674178916433,
     "user": {
      "displayName": "JOHN KARANJA",
      "userId": "12525172849827907466"
     },
     "user_tz": -180
    },
    "id": "P68dUWh1d4MN",
    "outputId": "6b598a80-084b-4a0e-8549-6e88fa0a53d3"
   },
   "outputs": [
    {
     "data": {
      "text/plain": [
       "3"
      ]
     },
     "execution_count": 26,
     "metadata": {},
     "output_type": "execute_result"
    }
   ],
   "source": [
    "myseries['day 3']"
   ]
  },
  {
   "cell_type": "code",
   "execution_count": 27,
   "metadata": {
    "colab": {
     "base_uri": "https://localhost:8080/"
    },
    "executionInfo": {
     "elapsed": 266,
     "status": "ok",
     "timestamp": 1674178916433,
     "user": {
      "displayName": "JOHN KARANJA",
      "userId": "12525172849827907466"
     },
     "user_tz": -180
    },
    "id": "QVK4UXzZeuir",
    "outputId": "af715eae-145d-4e07-a92d-5daad6409112"
   },
   "outputs": [
    {
     "data": {
      "text/plain": [
       "day 2    2\n",
       "day 3    3\n",
       "day 4    4\n",
       "dtype: int64"
      ]
     },
     "execution_count": 27,
     "metadata": {},
     "output_type": "execute_result"
    }
   ],
   "source": [
    "myseries['day 2':'day 4']"
   ]
  },
  {
   "cell_type": "code",
   "execution_count": 28,
   "metadata": {
    "colab": {
     "base_uri": "https://localhost:8080/"
    },
    "executionInfo": {
     "elapsed": 264,
     "status": "ok",
     "timestamp": 1674178916434,
     "user": {
      "displayName": "JOHN KARANJA",
      "userId": "12525172849827907466"
     },
     "user_tz": -180
    },
    "id": "0mVGtx_be20U",
    "outputId": "139e364d-3acf-40f3-cf19-844f4b26bd65"
   },
   "outputs": [
    {
     "data": {
      "text/plain": [
       "day 0    0\n",
       "day 2    2\n",
       "day 4    4\n",
       "dtype: int64"
      ]
     },
     "execution_count": 28,
     "metadata": {},
     "output_type": "execute_result"
    }
   ],
   "source": [
    "myseries[::2] #step size of 2 prints out even values"
   ]
  },
  {
   "cell_type": "code",
   "execution_count": 29,
   "metadata": {
    "colab": {
     "base_uri": "https://localhost:8080/"
    },
    "executionInfo": {
     "elapsed": 262,
     "status": "ok",
     "timestamp": 1674178916435,
     "user": {
      "displayName": "JOHN KARANJA",
      "userId": "12525172849827907466"
     },
     "user_tz": -180
    },
    "id": "cJue4VMrfbm3",
    "outputId": "2a37cc32-4b6a-493e-daf7-34d468083647"
   },
   "outputs": [
    {
     "data": {
      "text/plain": [
       "day 0    0\n",
       "day 1    1\n",
       "day 2    2\n",
       "day 3    3\n",
       "day 4    4\n",
       "dtype: int64"
      ]
     },
     "execution_count": 29,
     "metadata": {},
     "output_type": "execute_result"
    }
   ],
   "source": [
    "myseries=pd.Series(range(5),index=('day 0','day 1','day 2','day 3','day 4'))\n",
    "myseries"
   ]
  },
  {
   "cell_type": "code",
   "execution_count": 30,
   "metadata": {
    "colab": {
     "base_uri": "https://localhost:8080/"
    },
    "executionInfo": {
     "elapsed": 258,
     "status": "ok",
     "timestamp": 1674178916435,
     "user": {
      "displayName": "JOHN KARANJA",
      "userId": "12525172849827907466"
     },
     "user_tz": -180
    },
    "id": "CjmPL9gfgWvD",
    "outputId": "84535f07-2247-4f6d-b1cf-1c4f1d40567f"
   },
   "outputs": [
    {
     "data": {
      "text/plain": [
       "2"
      ]
     },
     "execution_count": 30,
     "metadata": {},
     "output_type": "execute_result"
    }
   ],
   "source": [
    "myseries.iloc[2]"
   ]
  },
  {
   "cell_type": "code",
   "execution_count": 31,
   "metadata": {
    "colab": {
     "base_uri": "https://localhost:8080/"
    },
    "executionInfo": {
     "elapsed": 256,
     "status": "ok",
     "timestamp": 1674178916436,
     "user": {
      "displayName": "JOHN KARANJA",
      "userId": "12525172849827907466"
     },
     "user_tz": -180
    },
    "id": "RAZGgFQWgjWs",
    "outputId": "3a21c573-d788-4a09-eaa3-0a49baaa7e0e"
   },
   "outputs": [
    {
     "data": {
      "text/plain": [
       "day 1    1\n",
       "dtype: int64"
      ]
     },
     "execution_count": 31,
     "metadata": {},
     "output_type": "execute_result"
    }
   ],
   "source": [
    "myseries.iloc[1:2]"
   ]
  },
  {
   "cell_type": "code",
   "execution_count": 32,
   "metadata": {
    "colab": {
     "base_uri": "https://localhost:8080/"
    },
    "executionInfo": {
     "elapsed": 253,
     "status": "ok",
     "timestamp": 1674178916437,
     "user": {
      "displayName": "JOHN KARANJA",
      "userId": "12525172849827907466"
     },
     "user_tz": -180
    },
    "id": "4YNIvEWcgpiK",
    "outputId": "eaedee26-7b5a-4020-da7b-80b42fd40a12"
   },
   "outputs": [
    {
     "data": {
      "text/plain": [
       "day 1    1\n",
       "day 2    2\n",
       "day 4    4\n",
       "dtype: int64"
      ]
     },
     "execution_count": 32,
     "metadata": {},
     "output_type": "execute_result"
    }
   ],
   "source": [
    "myseries[[1,2,4]]"
   ]
  },
  {
   "cell_type": "code",
   "execution_count": 33,
   "metadata": {
    "colab": {
     "base_uri": "https://localhost:8080/"
    },
    "executionInfo": {
     "elapsed": 247,
     "status": "ok",
     "timestamp": 1674178916437,
     "user": {
      "displayName": "JOHN KARANJA",
      "userId": "12525172849827907466"
     },
     "user_tz": -180
    },
    "id": "6LB83tuEg6MP",
    "outputId": "3b5936c9-7c8a-41bf-b6d7-e852426cc188"
   },
   "outputs": [
    {
     "data": {
      "text/plain": [
       "coffee       0\n",
       "bananas      5\n",
       "tea        155\n",
       "coconut      0\n",
       "sugar      518\n",
       "Name: sales, dtype: int64"
      ]
     },
     "execution_count": 33,
     "metadata": {},
     "output_type": "execute_result"
    }
   ],
   "source": [
    "items=['coffee','bananas','tea','coconut','sugar']\n",
    "sales=[0,5,155,0,518]\n",
    "sales_series=pd.Series(sales,index=items,name='sales')\n",
    "sales_series"
   ]
  },
  {
   "cell_type": "code",
   "execution_count": 34,
   "metadata": {
    "colab": {
     "base_uri": "https://localhost:8080/"
    },
    "executionInfo": {
     "elapsed": 243,
     "status": "ok",
     "timestamp": 1674178916438,
     "user": {
      "displayName": "JOHN KARANJA",
      "userId": "12525172849827907466"
     },
     "user_tz": -180
    },
    "id": "B5x6Qhz6hp6h",
    "outputId": "1eecb564-f5ae-4247-91b9-9a8802510e13"
   },
   "outputs": [
    {
     "data": {
      "text/plain": [
       "155"
      ]
     },
     "execution_count": 34,
     "metadata": {},
     "output_type": "execute_result"
    }
   ],
   "source": [
    "sales_series.loc['tea']"
   ]
  },
  {
   "cell_type": "code",
   "execution_count": 35,
   "metadata": {
    "colab": {
     "base_uri": "https://localhost:8080/"
    },
    "executionInfo": {
     "elapsed": 239,
     "status": "ok",
     "timestamp": 1674178916438,
     "user": {
      "displayName": "JOHN KARANJA",
      "userId": "12525172849827907466"
     },
     "user_tz": -180
    },
    "id": "LRV2alx1iDZ4",
    "outputId": "62e04a1b-a4ae-4935-cb33-ca8a91ba3f63"
   },
   "outputs": [
    {
     "data": {
      "text/plain": [
       "coffee       0\n",
       "bananas      5\n",
       "tea        155\n",
       "coconut      0\n",
       "Name: sales, dtype: int64"
      ]
     },
     "execution_count": 35,
     "metadata": {},
     "output_type": "execute_result"
    }
   ],
   "source": [
    "sales_series['coffee': 'coconut']"
   ]
  },
  {
   "cell_type": "code",
   "execution_count": 36,
   "metadata": {
    "colab": {
     "base_uri": "https://localhost:8080/"
    },
    "executionInfo": {
     "elapsed": 236,
     "status": "ok",
     "timestamp": 1674178916439,
     "user": {
      "displayName": "JOHN KARANJA",
      "userId": "12525172849827907466"
     },
     "user_tz": -180
    },
    "id": "w7gQnZR1iPx3",
    "outputId": "d215134d-8874-433e-a087-d260793d4fe8"
   },
   "outputs": [
    {
     "data": {
      "text/plain": [
       "day 0    0\n",
       "day 1    1\n",
       "day 2    2\n",
       "day 3    3\n",
       "day 4    4\n",
       "dtype: int64"
      ]
     },
     "execution_count": 36,
     "metadata": {},
     "output_type": "execute_result"
    }
   ],
   "source": [
    "myseries=pd.Series(range(5),index=('day 0','day 1','day 2','day 3','day 4'))\n",
    "myseries"
   ]
  },
  {
   "cell_type": "code",
   "execution_count": 37,
   "metadata": {
    "colab": {
     "base_uri": "https://localhost:8080/"
    },
    "executionInfo": {
     "elapsed": 234,
     "status": "ok",
     "timestamp": 1674178916440,
     "user": {
      "displayName": "JOHN KARANJA",
      "userId": "12525172849827907466"
     },
     "user_tz": -180
    },
    "id": "Uu-c8oXAitJG",
    "outputId": "bcf2f0eb-f766-436b-ceb4-3be3061fd7fa"
   },
   "outputs": [
    {
     "data": {
      "text/plain": [
       "day 0    0\n",
       "day 1    1\n",
       "day 2    2\n",
       "day 3    3\n",
       "day 4    4\n",
       "dtype: int64"
      ]
     },
     "execution_count": 37,
     "metadata": {},
     "output_type": "execute_result"
    }
   ],
   "source": [
    "myseries['day 0':'day 4']"
   ]
  },
  {
   "cell_type": "code",
   "execution_count": 38,
   "metadata": {
    "colab": {
     "base_uri": "https://localhost:8080/"
    },
    "executionInfo": {
     "elapsed": 229,
     "status": "ok",
     "timestamp": 1674178916440,
     "user": {
      "displayName": "JOHN KARANJA",
      "userId": "12525172849827907466"
     },
     "user_tz": -180
    },
    "id": "5EjFU0ruizwC",
    "outputId": "e81e1331-ef41-4b49-f2b8-09a06f0e1d7f"
   },
   "outputs": [
    {
     "data": {
      "text/plain": [
       "3"
      ]
     },
     "execution_count": 38,
     "metadata": {},
     "output_type": "execute_result"
    }
   ],
   "source": [
    "myseries.loc['day 3']"
   ]
  },
  {
   "cell_type": "code",
   "execution_count": 39,
   "metadata": {
    "colab": {
     "base_uri": "https://localhost:8080/"
    },
    "executionInfo": {
     "elapsed": 225,
     "status": "ok",
     "timestamp": 1674178916440,
     "user": {
      "displayName": "JOHN KARANJA",
      "userId": "12525172849827907466"
     },
     "user_tz": -180
    },
    "id": "L27_xEyZi5eL",
    "outputId": "9bab0ed2-6048-4bea-8405-3005d49b6657"
   },
   "outputs": [
    {
     "data": {
      "text/plain": [
       "0      0\n",
       "2      1\n",
       "3      2\n",
       "100    3\n",
       "5      4\n",
       "dtype: int64"
      ]
     },
     "execution_count": 39,
     "metadata": {},
     "output_type": "execute_result"
    }
   ],
   "source": [
    "myseries.index=[0,2,3,100,5]\n",
    "myseries"
   ]
  },
  {
   "cell_type": "code",
   "execution_count": 40,
   "metadata": {
    "colab": {
     "base_uri": "https://localhost:8080/"
    },
    "executionInfo": {
     "elapsed": 223,
     "status": "ok",
     "timestamp": 1674178916441,
     "user": {
      "displayName": "JOHN KARANJA",
      "userId": "12525172849827907466"
     },
     "user_tz": -180
    },
    "id": "xZR0URe8jbwv",
    "outputId": "5ca707e1-639f-4e67-9ab0-1cdaca8ced4e"
   },
   "outputs": [
    {
     "data": {
      "text/plain": [
       "0      0\n",
       "2      1\n",
       "3      2\n",
       "100    3\n",
       "dtype: int64"
      ]
     },
     "execution_count": 40,
     "metadata": {},
     "output_type": "execute_result"
    }
   ],
   "source": [
    "myseries.loc[0:100]"
   ]
  },
  {
   "cell_type": "code",
   "execution_count": 41,
   "metadata": {
    "executionInfo": {
     "elapsed": 218,
     "status": "ok",
     "timestamp": 1674178916441,
     "user": {
      "displayName": "JOHN KARANJA",
      "userId": "12525172849827907466"
     },
     "user_tz": -180
    },
    "id": "3DMOK7SVjiaz"
   },
   "outputs": [],
   "source": [
    "new=myseries.reset_index(drop=True) #resets the array index into the default number format"
   ]
  },
  {
   "cell_type": "code",
   "execution_count": 42,
   "metadata": {
    "colab": {
     "base_uri": "https://localhost:8080/"
    },
    "executionInfo": {
     "elapsed": 218,
     "status": "ok",
     "timestamp": 1674178916442,
     "user": {
      "displayName": "JOHN KARANJA",
      "userId": "12525172849827907466"
     },
     "user_tz": -180
    },
    "id": "388Rn2HojvxE",
    "outputId": "ae58ad9f-858e-4ccc-ea12-ba542cb9c6a8"
   },
   "outputs": [
    {
     "data": {
      "text/plain": [
       "0    0\n",
       "1    1\n",
       "2    2\n",
       "3    3\n",
       "dtype: int64"
      ]
     },
     "execution_count": 42,
     "metadata": {},
     "output_type": "execute_result"
    }
   ],
   "source": [
    "new.loc[:3]"
   ]
  },
  {
   "cell_type": "code",
   "execution_count": 43,
   "metadata": {
    "colab": {
     "base_uri": "https://localhost:8080/"
    },
    "executionInfo": {
     "elapsed": 212,
     "status": "ok",
     "timestamp": 1674178916442,
     "user": {
      "displayName": "JOHN KARANJA",
      "userId": "12525172849827907466"
     },
     "user_tz": -180
    },
    "id": "gWJFIEDFkID3",
    "outputId": "53ce8013-0808-432a-8f61-dfd5ab23df95"
   },
   "outputs": [
    {
     "data": {
      "text/plain": [
       "day 0    0\n",
       "day 0    1\n",
       "day 0    2\n",
       "day 3    3\n",
       "day 4    4\n",
       "dtype: int64"
      ]
     },
     "execution_count": 43,
     "metadata": {},
     "output_type": "execute_result"
    }
   ],
   "source": [
    "myseries=pd.Series(range(5),index=('day 0','day 0','day 0','day 3','day 4'))\n",
    "myseries"
   ]
  },
  {
   "cell_type": "code",
   "execution_count": 44,
   "metadata": {
    "colab": {
     "base_uri": "https://localhost:8080/"
    },
    "executionInfo": {
     "elapsed": 209,
     "status": "ok",
     "timestamp": 1674178916443,
     "user": {
      "displayName": "JOHN KARANJA",
      "userId": "12525172849827907466"
     },
     "user_tz": -180
    },
    "id": "Dt09p0uqlVrS",
    "outputId": "2a46d499-b371-41df-e580-fb25df5d65d4"
   },
   "outputs": [
    {
     "data": {
      "text/plain": [
       "day 0    0\n",
       "day 0    1\n",
       "day 0    2\n",
       "dtype: int64"
      ]
     },
     "execution_count": 44,
     "metadata": {},
     "output_type": "execute_result"
    }
   ],
   "source": [
    "myseries['day 0']"
   ]
  },
  {
   "cell_type": "code",
   "execution_count": 45,
   "metadata": {
    "colab": {
     "base_uri": "https://localhost:8080/",
     "height": 206
    },
    "executionInfo": {
     "elapsed": 206,
     "status": "ok",
     "timestamp": 1674178916444,
     "user": {
      "displayName": "JOHN KARANJA",
      "userId": "12525172849827907466"
     },
     "user_tz": -180
    },
    "id": "OwyuB9-0lcad",
    "outputId": "c80a561f-157c-48f7-c2ef-ab869d26fe79"
   },
   "outputs": [
    {
     "data": {
      "text/html": [
       "\n",
       "  <div id=\"df-17023263-b32d-4ec4-b6cf-71d1355c0a1d\">\n",
       "    <div class=\"colab-df-container\">\n",
       "      <div>\n",
       "<style scoped>\n",
       "    .dataframe tbody tr th:only-of-type {\n",
       "        vertical-align: middle;\n",
       "    }\n",
       "\n",
       "    .dataframe tbody tr th {\n",
       "        vertical-align: top;\n",
       "    }\n",
       "\n",
       "    .dataframe thead th {\n",
       "        text-align: right;\n",
       "    }\n",
       "</style>\n",
       "<table border=\"1\" class=\"dataframe\">\n",
       "  <thead>\n",
       "    <tr style=\"text-align: right;\">\n",
       "      <th></th>\n",
       "      <th>index</th>\n",
       "      <th>0</th>\n",
       "    </tr>\n",
       "  </thead>\n",
       "  <tbody>\n",
       "    <tr>\n",
       "      <th>0</th>\n",
       "      <td>day 0</td>\n",
       "      <td>0</td>\n",
       "    </tr>\n",
       "    <tr>\n",
       "      <th>1</th>\n",
       "      <td>day 0</td>\n",
       "      <td>1</td>\n",
       "    </tr>\n",
       "    <tr>\n",
       "      <th>2</th>\n",
       "      <td>day 0</td>\n",
       "      <td>2</td>\n",
       "    </tr>\n",
       "    <tr>\n",
       "      <th>3</th>\n",
       "      <td>day 3</td>\n",
       "      <td>3</td>\n",
       "    </tr>\n",
       "    <tr>\n",
       "      <th>4</th>\n",
       "      <td>day 4</td>\n",
       "      <td>4</td>\n",
       "    </tr>\n",
       "  </tbody>\n",
       "</table>\n",
       "</div>\n",
       "      <button class=\"colab-df-convert\" onclick=\"convertToInteractive('df-17023263-b32d-4ec4-b6cf-71d1355c0a1d')\"\n",
       "              title=\"Convert this dataframe to an interactive table.\"\n",
       "              style=\"display:none;\">\n",
       "        \n",
       "  <svg xmlns=\"http://www.w3.org/2000/svg\" height=\"24px\"viewBox=\"0 0 24 24\"\n",
       "       width=\"24px\">\n",
       "    <path d=\"M0 0h24v24H0V0z\" fill=\"none\"/>\n",
       "    <path d=\"M18.56 5.44l.94 2.06.94-2.06 2.06-.94-2.06-.94-.94-2.06-.94 2.06-2.06.94zm-11 1L8.5 8.5l.94-2.06 2.06-.94-2.06-.94L8.5 2.5l-.94 2.06-2.06.94zm10 10l.94 2.06.94-2.06 2.06-.94-2.06-.94-.94-2.06-.94 2.06-2.06.94z\"/><path d=\"M17.41 7.96l-1.37-1.37c-.4-.4-.92-.59-1.43-.59-.52 0-1.04.2-1.43.59L10.3 9.45l-7.72 7.72c-.78.78-.78 2.05 0 2.83L4 21.41c.39.39.9.59 1.41.59.51 0 1.02-.2 1.41-.59l7.78-7.78 2.81-2.81c.8-.78.8-2.07 0-2.86zM5.41 20L4 18.59l7.72-7.72 1.47 1.35L5.41 20z\"/>\n",
       "  </svg>\n",
       "      </button>\n",
       "      \n",
       "  <style>\n",
       "    .colab-df-container {\n",
       "      display:flex;\n",
       "      flex-wrap:wrap;\n",
       "      gap: 12px;\n",
       "    }\n",
       "\n",
       "    .colab-df-convert {\n",
       "      background-color: #E8F0FE;\n",
       "      border: none;\n",
       "      border-radius: 50%;\n",
       "      cursor: pointer;\n",
       "      display: none;\n",
       "      fill: #1967D2;\n",
       "      height: 32px;\n",
       "      padding: 0 0 0 0;\n",
       "      width: 32px;\n",
       "    }\n",
       "\n",
       "    .colab-df-convert:hover {\n",
       "      background-color: #E2EBFA;\n",
       "      box-shadow: 0px 1px 2px rgba(60, 64, 67, 0.3), 0px 1px 3px 1px rgba(60, 64, 67, 0.15);\n",
       "      fill: #174EA6;\n",
       "    }\n",
       "\n",
       "    [theme=dark] .colab-df-convert {\n",
       "      background-color: #3B4455;\n",
       "      fill: #D2E3FC;\n",
       "    }\n",
       "\n",
       "    [theme=dark] .colab-df-convert:hover {\n",
       "      background-color: #434B5C;\n",
       "      box-shadow: 0px 1px 3px 1px rgba(0, 0, 0, 0.15);\n",
       "      filter: drop-shadow(0px 1px 2px rgba(0, 0, 0, 0.3));\n",
       "      fill: #FFFFFF;\n",
       "    }\n",
       "  </style>\n",
       "\n",
       "      <script>\n",
       "        const buttonEl =\n",
       "          document.querySelector('#df-17023263-b32d-4ec4-b6cf-71d1355c0a1d button.colab-df-convert');\n",
       "        buttonEl.style.display =\n",
       "          google.colab.kernel.accessAllowed ? 'block' : 'none';\n",
       "\n",
       "        async function convertToInteractive(key) {\n",
       "          const element = document.querySelector('#df-17023263-b32d-4ec4-b6cf-71d1355c0a1d');\n",
       "          const dataTable =\n",
       "            await google.colab.kernel.invokeFunction('convertToInteractive',\n",
       "                                                     [key], {});\n",
       "          if (!dataTable) return;\n",
       "\n",
       "          const docLinkHtml = 'Like what you see? Visit the ' +\n",
       "            '<a target=\"_blank\" href=https://colab.research.google.com/notebooks/data_table.ipynb>data table notebook</a>'\n",
       "            + ' to learn more about interactive tables.';\n",
       "          element.innerHTML = '';\n",
       "          dataTable['output_type'] = 'display_data';\n",
       "          await google.colab.output.renderOutput(dataTable, element);\n",
       "          const docLink = document.createElement('div');\n",
       "          docLink.innerHTML = docLinkHtml;\n",
       "          element.appendChild(docLink);\n",
       "        }\n",
       "      </script>\n",
       "    </div>\n",
       "  </div>\n",
       "  "
      ],
      "text/plain": [
       "   index  0\n",
       "0  day 0  0\n",
       "1  day 0  1\n",
       "2  day 0  2\n",
       "3  day 3  3\n",
       "4  day 4  4"
      ]
     },
     "execution_count": 45,
     "metadata": {},
     "output_type": "execute_result"
    }
   ],
   "source": [
    "myseries.reset_index()"
   ]
  },
  {
   "cell_type": "code",
   "execution_count": 46,
   "metadata": {
    "colab": {
     "base_uri": "https://localhost:8080/"
    },
    "executionInfo": {
     "elapsed": 206,
     "status": "ok",
     "timestamp": 1674178916445,
     "user": {
      "displayName": "JOHN KARANJA",
      "userId": "12525172849827907466"
     },
     "user_tz": -180
    },
    "id": "vqAJVX8elpW1",
    "outputId": "d17dd3ca-afcd-4fbf-c262-7ff7e7a89f68"
   },
   "outputs": [
    {
     "data": {
      "text/plain": [
       "2    2\n",
       "3    3\n",
       "4    4\n",
       "dtype: int64"
      ]
     },
     "execution_count": 46,
     "metadata": {},
     "output_type": "execute_result"
    }
   ],
   "source": [
    "myseries.reset_index(drop=True).loc[2:4]"
   ]
  },
  {
   "cell_type": "code",
   "execution_count": 47,
   "metadata": {
    "colab": {
     "base_uri": "https://localhost:8080/"
    },
    "executionInfo": {
     "elapsed": 202,
     "status": "ok",
     "timestamp": 1674178916445,
     "user": {
      "displayName": "JOHN KARANJA",
      "userId": "12525172849827907466"
     },
     "user_tz": -180
    },
    "id": "4CPSPm7V4K_H",
    "outputId": "3fbb8a07-6593-49f0-d669-5892f458e1ad"
   },
   "outputs": [
    {
     "data": {
      "text/plain": [
       "coffee       0\n",
       "bananas      5\n",
       "tea        155\n",
       "coconut      0\n",
       "sugar      518\n",
       "Name: sales, dtype: int64"
      ]
     },
     "execution_count": 47,
     "metadata": {},
     "output_type": "execute_result"
    }
   ],
   "source": [
    "sales_series"
   ]
  },
  {
   "cell_type": "code",
   "execution_count": 48,
   "metadata": {
    "colab": {
     "base_uri": "https://localhost:8080/"
    },
    "executionInfo": {
     "elapsed": 201,
     "status": "ok",
     "timestamp": 1674178916447,
     "user": {
      "displayName": "JOHN KARANJA",
      "userId": "12525172849827907466"
     },
     "user_tz": -180
    },
    "id": "Azhgaxj280xD",
    "outputId": "8dd90346-8ea4-4b79-899e-4c604f0fcc3f"
   },
   "outputs": [
    {
     "data": {
      "text/plain": [
       "bananas      5\n",
       "tea        155\n",
       "sugar      518\n",
       "Name: sales, dtype: int64"
      ]
     },
     "execution_count": 48,
     "metadata": {},
     "output_type": "execute_result"
    }
   ],
   "source": [
    "sales_series.loc[sales_series>0]"
   ]
  },
  {
   "cell_type": "code",
   "execution_count": 49,
   "metadata": {
    "colab": {
     "base_uri": "https://localhost:8080/"
    },
    "executionInfo": {
     "elapsed": 198,
     "status": "ok",
     "timestamp": 1674178916448,
     "user": {
      "displayName": "JOHN KARANJA",
      "userId": "12525172849827907466"
     },
     "user_tz": -180
    },
    "id": "DEBaA0QZ8twW",
    "outputId": "2b5f1dc3-364b-4ba9-e27d-9bdcacc6dc82"
   },
   "outputs": [
    {
     "data": {
      "text/plain": [
       "bananas      5\n",
       "tea        155\n",
       "coconut      0\n",
       "sugar      518\n",
       "Name: sales, dtype: int64"
      ]
     },
     "execution_count": 49,
     "metadata": {},
     "output_type": "execute_result"
    }
   ],
   "source": [
    "mask=(sales_series>0)|(sales_series.index==\"coconut\")\n",
    "sales_series.loc[mask]"
   ]
  },
  {
   "cell_type": "code",
   "execution_count": 50,
   "metadata": {
    "colab": {
     "base_uri": "https://localhost:8080/"
    },
    "executionInfo": {
     "elapsed": 194,
     "status": "ok",
     "timestamp": 1674178916449,
     "user": {
      "displayName": "JOHN KARANJA",
      "userId": "12525172849827907466"
     },
     "user_tz": -180
    },
    "id": "tWyzFgLT9JQk",
    "outputId": "2dfde62f-c46b-4dfe-a935-4ddee2c7ed42"
   },
   "outputs": [
    {
     "data": {
      "text/plain": [
       "bananas    5\n",
       "Name: sales, dtype: int64"
      ]
     },
     "execution_count": 50,
     "metadata": {},
     "output_type": "execute_result"
    }
   ],
   "source": [
    "mask=sales_series== 5\n",
    "sales_series.loc[mask]"
   ]
  },
  {
   "cell_type": "code",
   "execution_count": 51,
   "metadata": {
    "colab": {
     "base_uri": "https://localhost:8080/"
    },
    "executionInfo": {
     "elapsed": 190,
     "status": "ok",
     "timestamp": 1674178916450,
     "user": {
      "displayName": "JOHN KARANJA",
      "userId": "12525172849827907466"
     },
     "user_tz": -180
    },
    "id": "oc2LKPhfFrSZ",
    "outputId": "96663d57-220c-483b-c147-a8deed9e4c23"
   },
   "outputs": [
    {
     "data": {
      "text/plain": [
       "coffee     False\n",
       "bananas     True\n",
       "tea        False\n",
       "coconut    False\n",
       "sugar      False\n",
       "Name: sales, dtype: bool"
      ]
     },
     "execution_count": 51,
     "metadata": {},
     "output_type": "execute_result"
    }
   ],
   "source": [
    "sales_series.eq(5)"
   ]
  },
  {
   "cell_type": "code",
   "execution_count": 52,
   "metadata": {
    "colab": {
     "base_uri": "https://localhost:8080/"
    },
    "executionInfo": {
     "elapsed": 186,
     "status": "ok",
     "timestamp": 1674178916450,
     "user": {
      "displayName": "JOHN KARANJA",
      "userId": "12525172849827907466"
     },
     "user_tz": -180
    },
    "id": "fejTrjP2F4Do",
    "outputId": "8617ba10-d033-4ad7-e169-8595670ffcb9"
   },
   "outputs": [
    {
     "data": {
      "text/plain": [
       "bananas    5\n",
       "Name: sales, dtype: int64"
      ]
     },
     "execution_count": 52,
     "metadata": {},
     "output_type": "execute_result"
    }
   ],
   "source": [
    "mask=sales_series.eq(5)\n",
    "sales_series[mask]"
   ]
  },
  {
   "cell_type": "code",
   "execution_count": 53,
   "metadata": {
    "colab": {
     "base_uri": "https://localhost:8080/"
    },
    "executionInfo": {
     "elapsed": 182,
     "status": "ok",
     "timestamp": 1674178916451,
     "user": {
      "displayName": "JOHN KARANJA",
      "userId": "12525172849827907466"
     },
     "user_tz": -180
    },
    "id": "LgrYO_FzMw3J",
    "outputId": "67b9703f-49be-4a8a-80b0-c7a7bc1f243d"
   },
   "outputs": [
    {
     "data": {
      "text/plain": [
       "day 0    0\n",
       "day 1    1\n",
       "day 2    2\n",
       "day 3    3\n",
       "day 4    4\n",
       "dtype: int64"
      ]
     },
     "execution_count": 53,
     "metadata": {},
     "output_type": "execute_result"
    }
   ],
   "source": [
    "my_series=pd.Series([0,1,2,3,4],index=['day 0','day 1','day 2','day 3','day 4'])\n",
    "\n",
    "my_series"
   ]
  },
  {
   "cell_type": "code",
   "execution_count": 54,
   "metadata": {
    "colab": {
     "base_uri": "https://localhost:8080/"
    },
    "executionInfo": {
     "elapsed": 178,
     "status": "ok",
     "timestamp": 1674178916451,
     "user": {
      "displayName": "JOHN KARANJA",
      "userId": "12525172849827907466"
     },
     "user_tz": -180
    },
    "id": "__xPgR_7NnLF",
    "outputId": "202866fb-8a51-4340-fe67-b6d8e7c47934"
   },
   "outputs": [
    {
     "data": {
      "text/plain": [
       "day 0    False\n",
       "day 1    False\n",
       "day 2     True\n",
       "day 3    False\n",
       "day 4    False\n",
       "dtype: bool"
      ]
     },
     "execution_count": 54,
     "metadata": {},
     "output_type": "execute_result"
    }
   ],
   "source": [
    "my_series == 2"
   ]
  },
  {
   "cell_type": "code",
   "execution_count": 55,
   "metadata": {
    "colab": {
     "base_uri": "https://localhost:8080/"
    },
    "executionInfo": {
     "elapsed": 173,
     "status": "ok",
     "timestamp": 1674178916451,
     "user": {
      "displayName": "JOHN KARANJA",
      "userId": "12525172849827907466"
     },
     "user_tz": -180
    },
    "id": "Y_rSpySkNrqc",
    "outputId": "37a516fc-36fe-4668-a276-8a933aa63286"
   },
   "outputs": [
    {
     "data": {
      "text/plain": [
       "day 0     True\n",
       "day 1     True\n",
       "day 2    False\n",
       "day 3     True\n",
       "day 4     True\n",
       "dtype: bool"
      ]
     },
     "execution_count": 55,
     "metadata": {},
     "output_type": "execute_result"
    }
   ],
   "source": [
    "my_series != 2"
   ]
  },
  {
   "cell_type": "code",
   "execution_count": 56,
   "metadata": {
    "colab": {
     "base_uri": "https://localhost:8080/"
    },
    "executionInfo": {
     "elapsed": 170,
     "status": "ok",
     "timestamp": 1674178916452,
     "user": {
      "displayName": "JOHN KARANJA",
      "userId": "12525172849827907466"
     },
     "user_tz": -180
    },
    "id": "7yCvSDEHN99V",
    "outputId": "38f21bbd-7c0f-414b-84bb-cc29be2d8fde"
   },
   "outputs": [
    {
     "data": {
      "text/plain": [
       "day 0    0\n",
       "day 1    1\n",
       "day 3    3\n",
       "day 4    4\n",
       "dtype: int64"
      ]
     },
     "execution_count": 56,
     "metadata": {},
     "output_type": "execute_result"
    }
   ],
   "source": [
    "my_series.loc[my_series!=2]"
   ]
  },
  {
   "cell_type": "code",
   "execution_count": 57,
   "metadata": {
    "colab": {
     "base_uri": "https://localhost:8080/"
    },
    "executionInfo": {
     "elapsed": 166,
     "status": "ok",
     "timestamp": 1674178916452,
     "user": {
      "displayName": "JOHN KARANJA",
      "userId": "12525172849827907466"
     },
     "user_tz": -180
    },
    "id": "6D2vcMhnPahX",
    "outputId": "a97ba392-2985-4e9e-99b8-e64220332742"
   },
   "outputs": [
    {
     "data": {
      "text/plain": [
       "coffee       0\n",
       "bananas      5\n",
       "tea        155\n",
       "coconut      0\n",
       "sugar      518\n",
       "Name: sales, dtype: int64"
      ]
     },
     "execution_count": 57,
     "metadata": {},
     "output_type": "execute_result"
    }
   ],
   "source": [
    "sales_series"
   ]
  },
  {
   "cell_type": "code",
   "execution_count": 58,
   "metadata": {
    "colab": {
     "base_uri": "https://localhost:8080/"
    },
    "executionInfo": {
     "elapsed": 163,
     "status": "ok",
     "timestamp": 1674178916452,
     "user": {
      "displayName": "JOHN KARANJA",
      "userId": "12525172849827907466"
     },
     "user_tz": -180
    },
    "id": "i9TsrVGxSMav",
    "outputId": "9b5de2b9-e267-4de7-e7b5-9fe6ef6c5b4d"
   },
   "outputs": [
    {
     "data": {
      "text/plain": [
       "tea      155\n",
       "sugar    518\n",
       "Name: sales, dtype: int64"
      ]
     },
     "execution_count": 58,
     "metadata": {},
     "output_type": "execute_result"
    }
   ],
   "source": [
    "sales_series[sales_series>5]"
   ]
  },
  {
   "cell_type": "code",
   "execution_count": 59,
   "metadata": {
    "colab": {
     "base_uri": "https://localhost:8080/"
    },
    "executionInfo": {
     "elapsed": 158,
     "status": "ok",
     "timestamp": 1674178916453,
     "user": {
      "displayName": "JOHN KARANJA",
      "userId": "12525172849827907466"
     },
     "user_tz": -180
    },
    "id": "8ED0o1hNSUAN",
    "outputId": "8183a3cb-20ca-4b34-e853-8b70b1a39367"
   },
   "outputs": [
    {
     "data": {
      "text/plain": [
       "day 0    False\n",
       "day 0     True\n",
       "day 0     True\n",
       "day 3    False\n",
       "day 4    False\n",
       "dtype: bool"
      ]
     },
     "execution_count": 59,
     "metadata": {},
     "output_type": "execute_result"
    }
   ],
   "source": [
    "myseries.isin([1,2]) #test for elements in an arrray"
   ]
  },
  {
   "cell_type": "code",
   "execution_count": 60,
   "metadata": {
    "colab": {
     "base_uri": "https://localhost:8080/"
    },
    "executionInfo": {
     "elapsed": 153,
     "status": "ok",
     "timestamp": 1674178916453,
     "user": {
      "displayName": "JOHN KARANJA",
      "userId": "12525172849827907466"
     },
     "user_tz": -180
    },
    "id": "YNEeh881psMv",
    "outputId": "bc636e1b-bb99-44f9-ea0c-0763e961ff50"
   },
   "outputs": [
    {
     "data": {
      "text/plain": [
       "day 0     True\n",
       "day 0    False\n",
       "day 0    False\n",
       "day 3     True\n",
       "day 4     True\n",
       "dtype: bool"
      ]
     },
     "execution_count": 60,
     "metadata": {},
     "output_type": "execute_result"
    }
   ],
   "source": [
    "~myseries.isin([1,2]) #tilde(~) tests for element not in an array"
   ]
  },
  {
   "cell_type": "code",
   "execution_count": 61,
   "metadata": {
    "colab": {
     "base_uri": "https://localhost:8080/"
    },
    "executionInfo": {
     "elapsed": 150,
     "status": "ok",
     "timestamp": 1674178916454,
     "user": {
      "displayName": "JOHN KARANJA",
      "userId": "12525172849827907466"
     },
     "user_tz": -180
    },
    "id": "KSqQ63cbTdTq",
    "outputId": "cbcb3537-cc68-406a-9653-c79185b90c8c"
   },
   "outputs": [
    {
     "data": {
      "text/plain": [
       "day 0    0\n",
       "day 3    3\n",
       "day 4    4\n",
       "dtype: int64"
      ]
     },
     "execution_count": 61,
     "metadata": {},
     "output_type": "execute_result"
    }
   ],
   "source": [
    "myseries.loc[-myseries.isin([1,2])]"
   ]
  },
  {
   "cell_type": "code",
   "execution_count": 62,
   "metadata": {
    "colab": {
     "base_uri": "https://localhost:8080/"
    },
    "executionInfo": {
     "elapsed": 145,
     "status": "ok",
     "timestamp": 1674178916454,
     "user": {
      "displayName": "JOHN KARANJA",
      "userId": "12525172849827907466"
     },
     "user_tz": -180
    },
    "id": "OE4lg2YkTkeX",
    "outputId": "716fe7fa-eee9-493c-9edf-2bd0e0f7a3b9"
   },
   "outputs": [
    {
     "data": {
      "text/plain": [
       "day 0    0\n",
       "day 1    1\n",
       "day 2    2\n",
       "day 3    3\n",
       "day 4    4\n",
       "dtype: int64"
      ]
     },
     "execution_count": 62,
     "metadata": {},
     "output_type": "execute_result"
    }
   ],
   "source": [
    "my_series=pd.Series([0,1,2,3,4],index=['day 0','day 1','day 2','day 3','day 4'])\n",
    "\n",
    "my_series"
   ]
  },
  {
   "cell_type": "code",
   "execution_count": 63,
   "metadata": {
    "colab": {
     "base_uri": "https://localhost:8080/"
    },
    "executionInfo": {
     "elapsed": 141,
     "status": "ok",
     "timestamp": 1674178916455,
     "user": {
      "displayName": "JOHN KARANJA",
      "userId": "12525172849827907466"
     },
     "user_tz": -180
    },
    "id": "YdAxnI0CqZ7q",
    "outputId": "b6d03b3a-6d90-45b7-c326-a2b1127cf510"
   },
   "outputs": [
    {
     "data": {
      "text/plain": [
       "day 0    2\n",
       "dtype: int64"
      ]
     },
     "execution_count": 63,
     "metadata": {},
     "output_type": "execute_result"
    }
   ],
   "source": [
    "myseries.loc[~(myseries!=2)]"
   ]
  },
  {
   "cell_type": "code",
   "execution_count": 64,
   "metadata": {
    "colab": {
     "base_uri": "https://localhost:8080/"
    },
    "executionInfo": {
     "elapsed": 137,
     "status": "ok",
     "timestamp": 1674178916455,
     "user": {
      "displayName": "JOHN KARANJA",
      "userId": "12525172849827907466"
     },
     "user_tz": -180
    },
    "id": "XphP6-SgqeAX",
    "outputId": "fa1a8c0f-a096-45d6-c827-dd9d53e863db"
   },
   "outputs": [
    {
     "data": {
      "text/plain": [
       "day 0    0\n",
       "day 0    1\n",
       "day 3    3\n",
       "day 4    4\n",
       "dtype: int64"
      ]
     },
     "execution_count": 64,
     "metadata": {},
     "output_type": "execute_result"
    }
   ],
   "source": [
    "myseries.loc[(myseries!=2)]"
   ]
  },
  {
   "cell_type": "code",
   "execution_count": 65,
   "metadata": {
    "colab": {
     "base_uri": "https://localhost:8080/"
    },
    "executionInfo": {
     "elapsed": 133,
     "status": "ok",
     "timestamp": 1674178916455,
     "user": {
      "displayName": "JOHN KARANJA",
      "userId": "12525172849827907466"
     },
     "user_tz": -180
    },
    "id": "O7Tk0oLdrHUD",
    "outputId": "181e14ac-87d4-48c1-c458-b348bc15da5a"
   },
   "outputs": [
    {
     "data": {
      "text/plain": [
       "day 0    1\n",
       "day 0    2\n",
       "dtype: int64"
      ]
     },
     "execution_count": 65,
     "metadata": {},
     "output_type": "execute_result"
    }
   ],
   "source": [
    "myseries.loc[myseries.isin([1,2])]"
   ]
  },
  {
   "cell_type": "code",
   "execution_count": 66,
   "metadata": {
    "colab": {
     "base_uri": "https://localhost:8080/"
    },
    "executionInfo": {
     "elapsed": 127,
     "status": "ok",
     "timestamp": 1674178916456,
     "user": {
      "displayName": "JOHN KARANJA",
      "userId": "12525172849827907466"
     },
     "user_tz": -180
    },
    "id": "Rkt34vy_rf5i",
    "outputId": "e864c434-a42e-4828-9ad1-aacdcab74ccf"
   },
   "outputs": [
    {
     "data": {
      "text/plain": [
       "day 0    0\n",
       "day 3    3\n",
       "day 4    4\n",
       "dtype: int64"
      ]
     },
     "execution_count": 66,
     "metadata": {},
     "output_type": "execute_result"
    }
   ],
   "source": [
    "myseries.loc[~myseries.isin([1,2])]"
   ]
  },
  {
   "cell_type": "code",
   "execution_count": 67,
   "metadata": {
    "colab": {
     "base_uri": "https://localhost:8080/"
    },
    "executionInfo": {
     "elapsed": 122,
     "status": "ok",
     "timestamp": 1674178916456,
     "user": {
      "displayName": "JOHN KARANJA",
      "userId": "12525172849827907466"
     },
     "user_tz": -180
    },
    "id": "qUkx69ADrj0G",
    "outputId": "741d17e4-2cc8-4fec-87e9-c986464bfb69"
   },
   "outputs": [
    {
     "data": {
      "text/plain": [
       "coffee       0\n",
       "bananas      5\n",
       "tea        155\n",
       "coconut      0\n",
       "sugar      518\n",
       "Name: sales, dtype: int64"
      ]
     },
     "execution_count": 67,
     "metadata": {},
     "output_type": "execute_result"
    }
   ],
   "source": [
    "items=['coffee','bananas','tea','coconut','sugar']\n",
    "sales=[0,5,155,0,518]\n",
    "sales_series=pd.Series(sales,index=items,name='sales')\n",
    "sales_series"
   ]
  },
  {
   "cell_type": "code",
   "execution_count": 68,
   "metadata": {
    "colab": {
     "base_uri": "https://localhost:8080/"
    },
    "executionInfo": {
     "elapsed": 119,
     "status": "ok",
     "timestamp": 1674178916457,
     "user": {
      "displayName": "JOHN KARANJA",
      "userId": "12525172849827907466"
     },
     "user_tz": -180
    },
    "id": "ri2-ppl7sxdo",
    "outputId": "69a2b757-c566-4201-d932-5202cce309f7"
   },
   "outputs": [
    {
     "data": {
      "text/plain": [
       "coffee       0\n",
       "coconut      0\n",
       "bananas      5\n",
       "tea        155\n",
       "sugar      518\n",
       "Name: sales, dtype: int64"
      ]
     },
     "execution_count": 68,
     "metadata": {},
     "output_type": "execute_result"
    }
   ],
   "source": [
    "sales_series.sort_values()"
   ]
  },
  {
   "cell_type": "code",
   "execution_count": 69,
   "metadata": {
    "colab": {
     "base_uri": "https://localhost:8080/"
    },
    "executionInfo": {
     "elapsed": 114,
     "status": "ok",
     "timestamp": 1674178916457,
     "user": {
      "displayName": "JOHN KARANJA",
      "userId": "12525172849827907466"
     },
     "user_tz": -180
    },
    "id": "El9KAIU0tChL",
    "outputId": "e97caaba-eff9-4c10-e761-4727bc594eed"
   },
   "outputs": [
    {
     "data": {
      "text/plain": [
       "bananas      5\n",
       "coconut      0\n",
       "coffee       0\n",
       "sugar      518\n",
       "tea        155\n",
       "Name: sales, dtype: int64"
      ]
     },
     "execution_count": 69,
     "metadata": {},
     "output_type": "execute_result"
    }
   ],
   "source": [
    "sales_series.sort_index()"
   ]
  },
  {
   "cell_type": "code",
   "execution_count": 70,
   "metadata": {
    "colab": {
     "base_uri": "https://localhost:8080/"
    },
    "executionInfo": {
     "elapsed": 110,
     "status": "ok",
     "timestamp": 1674178916458,
     "user": {
      "displayName": "JOHN KARANJA",
      "userId": "12525172849827907466"
     },
     "user_tz": -180
    },
    "id": "XMXt6vArtIlG",
    "outputId": "bb744056-ec53-4b30-f7cf-0c3562330625"
   },
   "outputs": [
    {
     "data": {
      "text/plain": [
       "tea        155\n",
       "sugar      518\n",
       "coffee       0\n",
       "coconut      0\n",
       "bananas      5\n",
       "Name: sales, dtype: int64"
      ]
     },
     "execution_count": 70,
     "metadata": {},
     "output_type": "execute_result"
    }
   ],
   "source": [
    "sales_series.sort_index(ascending=False)"
   ]
  },
  {
   "cell_type": "code",
   "execution_count": 71,
   "metadata": {
    "colab": {
     "base_uri": "https://localhost:8080/"
    },
    "executionInfo": {
     "elapsed": 106,
     "status": "ok",
     "timestamp": 1674178916458,
     "user": {
      "displayName": "JOHN KARANJA",
      "userId": "12525172849827907466"
     },
     "user_tz": -180
    },
    "id": "lo_ZdnWktR-e",
    "outputId": "066b8b85-108d-4b25-9cb0-1356614981a9"
   },
   "outputs": [
    {
     "data": {
      "text/plain": [
       "sugar      518\n",
       "tea        155\n",
       "bananas      5\n",
       "coffee       0\n",
       "coconut      0\n",
       "Name: sales, dtype: int64"
      ]
     },
     "execution_count": 71,
     "metadata": {},
     "output_type": "execute_result"
    }
   ],
   "source": [
    "sales_series.sort_values(ascending=False)"
   ]
  },
  {
   "cell_type": "code",
   "execution_count": 72,
   "metadata": {
    "colab": {
     "base_uri": "https://localhost:8080/"
    },
    "executionInfo": {
     "elapsed": 103,
     "status": "ok",
     "timestamp": 1674178916459,
     "user": {
      "displayName": "JOHN KARANJA",
      "userId": "12525172849827907466"
     },
     "user_tz": -180
    },
    "id": "Ggt9ckbitafo",
    "outputId": "7f78bee5-318c-4e4a-8d50-daeb50288713"
   },
   "outputs": [
    {
     "data": {
      "text/plain": [
       "coffee       0\n",
       "bananas      5\n",
       "tea        155\n",
       "coconut      0\n",
       "sugar      518\n",
       "Name: sales, dtype: int64"
      ]
     },
     "execution_count": 72,
     "metadata": {},
     "output_type": "execute_result"
    }
   ],
   "source": [
    "sales_series"
   ]
  },
  {
   "cell_type": "code",
   "execution_count": 73,
   "metadata": {
    "colab": {
     "base_uri": "https://localhost:8080/"
    },
    "executionInfo": {
     "elapsed": 99,
     "status": "ok",
     "timestamp": 1674178916460,
     "user": {
      "displayName": "JOHN KARANJA",
      "userId": "12525172849827907466"
     },
     "user_tz": -180
    },
    "id": "d8dBg9RC8uI8",
    "outputId": "1b6403c9-2fc0-49c7-9837-693813fc9c0d"
   },
   "outputs": [
    {
     "data": {
      "text/plain": [
       "coffee       2\n",
       "bananas      7\n",
       "tea        157\n",
       "coconut      2\n",
       "sugar      520\n",
       "Name: sales, dtype: int64"
      ]
     },
     "execution_count": 73,
     "metadata": {},
     "output_type": "execute_result"
    }
   ],
   "source": [
    "sales_series+2"
   ]
  },
  {
   "cell_type": "code",
   "execution_count": 74,
   "metadata": {
    "colab": {
     "base_uri": "https://localhost:8080/"
    },
    "executionInfo": {
     "elapsed": 95,
     "status": "ok",
     "timestamp": 1674178916460,
     "user": {
      "displayName": "JOHN KARANJA",
      "userId": "12525172849827907466"
     },
     "user_tz": -180
    },
    "id": "lAjVOQ2X81G9",
    "outputId": "fbf848bb-f53d-4a00-84f7-d58da2ebff74"
   },
   "outputs": [
    {
     "data": {
      "text/plain": [
       "coffee       2\n",
       "bananas      7\n",
       "tea        157\n",
       "coconut      2\n",
       "sugar      520\n",
       "Name: sales, dtype: int64"
      ]
     },
     "execution_count": 74,
     "metadata": {},
     "output_type": "execute_result"
    }
   ],
   "source": [
    "sales_series.add(2)"
   ]
  },
  {
   "cell_type": "code",
   "execution_count": 75,
   "metadata": {
    "colab": {
     "base_uri": "https://localhost:8080/"
    },
    "executionInfo": {
     "elapsed": 92,
     "status": "ok",
     "timestamp": 1674178916461,
     "user": {
      "displayName": "JOHN KARANJA",
      "userId": "12525172849827907466"
     },
     "user_tz": -180
    },
    "id": "11sYI0gq84CJ",
    "outputId": "89fc3361-3344-401a-ea5a-7d930dbc6c2d"
   },
   "outputs": [
    {
     "data": {
      "text/plain": [
       "coffee       Ksh 0.0\n",
       "bananas      Ksh 5.0\n",
       "tea        Ksh 155.0\n",
       "coconut      Ksh 0.0\n",
       "sugar      Ksh 518.0\n",
       "Name: sales, dtype: string"
      ]
     },
     "execution_count": 75,
     "metadata": {},
     "output_type": "execute_result"
    }
   ],
   "source": [
    " 'Ksh ' +sales_series.astype(\"float\").astype('string')"
   ]
  },
  {
   "cell_type": "code",
   "execution_count": 76,
   "metadata": {
    "colab": {
     "base_uri": "https://localhost:8080/"
    },
    "executionInfo": {
     "elapsed": 89,
     "status": "ok",
     "timestamp": 1674178916461,
     "user": {
      "displayName": "JOHN KARANJA",
      "userId": "12525172849827907466"
     },
     "user_tz": -180
    },
    "id": "tuCP9tgS9txf",
    "outputId": "587cdf8d-771d-4cfc-f659-f2633fcd55cd"
   },
   "outputs": [
    {
     "data": {
      "text/plain": [
       "day 0    0.0\n",
       "day 1    NaN\n",
       "day 2    2.0\n",
       "day 3    3.0\n",
       "day 4    4.0\n",
       "dtype: float64"
      ]
     },
     "execution_count": 76,
     "metadata": {},
     "output_type": "execute_result"
    }
   ],
   "source": [
    "my_series=pd.Series([0,np.NAN,2,3,4],index=['day 0','day 1','day 2','day 3','day 4'])\n",
    "\n",
    "my_series\n"
   ]
  },
  {
   "cell_type": "code",
   "execution_count": 77,
   "metadata": {
    "colab": {
     "base_uri": "https://localhost:8080/"
    },
    "executionInfo": {
     "elapsed": 86,
     "status": "ok",
     "timestamp": 1674178916462,
     "user": {
      "displayName": "JOHN KARANJA",
      "userId": "12525172849827907466"
     },
     "user_tz": -180
    },
    "id": "gUb9r8uZ-751",
    "outputId": "1442bd60-7004-4957-f926-752efc8db713"
   },
   "outputs": [
    {
     "data": {
      "text/plain": [
       "day 0    1.0\n",
       "day 1    NaN\n",
       "day 2    3.0\n",
       "day 3    4.0\n",
       "day 4    5.0\n",
       "dtype: float64"
      ]
     },
     "execution_count": 77,
     "metadata": {},
     "output_type": "execute_result"
    }
   ],
   "source": [
    "my_series+1"
   ]
  },
  {
   "cell_type": "code",
   "execution_count": 78,
   "metadata": {
    "colab": {
     "base_uri": "https://localhost:8080/"
    },
    "executionInfo": {
     "elapsed": 80,
     "status": "ok",
     "timestamp": 1674178916462,
     "user": {
      "displayName": "JOHN KARANJA",
      "userId": "12525172849827907466"
     },
     "user_tz": -180
    },
    "id": "9t1hNaul_QDJ",
    "outputId": "ca84f88e-42db-4136-d2db-5c8de3e137a9"
   },
   "outputs": [
    {
     "data": {
      "text/plain": [
       "day 0    1\n",
       "day 1    1\n",
       "day 2    3\n",
       "day 3    4\n",
       "day 4    5\n",
       "dtype: int64"
      ]
     },
     "execution_count": 78,
     "metadata": {},
     "output_type": "execute_result"
    }
   ],
   "source": [
    "my_series2=my_series.add(1, fill_value=0).astype('int')\n",
    "my_series2"
   ]
  },
  {
   "cell_type": "code",
   "execution_count": 79,
   "metadata": {
    "colab": {
     "base_uri": "https://localhost:8080/"
    },
    "executionInfo": {
     "elapsed": 77,
     "status": "ok",
     "timestamp": 1674178916463,
     "user": {
      "displayName": "JOHN KARANJA",
      "userId": "12525172849827907466"
     },
     "user_tz": -180
    },
    "id": "UvMDxLax_t5s",
    "outputId": "ab113172-fd73-4b74-d30a-611721c10409"
   },
   "outputs": [
    {
     "data": {
      "text/plain": [
       "day 0    0.5\n",
       "day 1    0.5\n",
       "day 2    1.5\n",
       "day 3    2.0\n",
       "day 4    2.5\n",
       "dtype: float64"
      ]
     },
     "execution_count": 79,
     "metadata": {},
     "output_type": "execute_result"
    }
   ],
   "source": [
    "my_series2/2"
   ]
  },
  {
   "cell_type": "code",
   "execution_count": 79,
   "metadata": {
    "executionInfo": {
     "elapsed": 73,
     "status": "ok",
     "timestamp": 1674178916463,
     "user": {
      "displayName": "JOHN KARANJA",
      "userId": "12525172849827907466"
     },
     "user_tz": -180
    },
    "id": "70ySxRKJAAvj"
   },
   "outputs": [],
   "source": []
  }
 ],
 "metadata": {
  "colab": {
   "authorship_tag": "ABX9TyOSGTF4LOWiHhhADmWA+kPL",
   "provenance": []
  },
  "kernelspec": {
   "display_name": "Python 3 (ipykernel)",
   "language": "python",
   "name": "python3"
  },
  "language_info": {
   "codemirror_mode": {
    "name": "ipython",
    "version": 3
   },
   "file_extension": ".py",
   "mimetype": "text/x-python",
   "name": "python",
   "nbconvert_exporter": "python",
   "pygments_lexer": "ipython3",
   "version": "3.9.13"
  }
 },
 "nbformat": 4,
 "nbformat_minor": 1
}
