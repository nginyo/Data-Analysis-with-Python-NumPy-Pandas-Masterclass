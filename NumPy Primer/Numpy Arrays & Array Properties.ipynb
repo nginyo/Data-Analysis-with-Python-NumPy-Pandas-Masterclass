{
 "cells": [
  {
   "cell_type": "code",
   "execution_count": 2,
   "id": "e79ce364",
   "metadata": {},
   "outputs": [],
   "source": [
    "import numpy as np"
   ]
  },
  {
   "cell_type": "code",
   "execution_count": 3,
   "id": "7e37f670",
   "metadata": {},
   "outputs": [],
   "source": [
    "array=np.array(range(5))"
   ]
  },
  {
   "cell_type": "code",
   "execution_count": 4,
   "id": "6e57e381",
   "metadata": {},
   "outputs": [
    {
     "data": {
      "text/plain": [
       "array([0, 1, 2, 3, 4])"
      ]
     },
     "execution_count": 4,
     "metadata": {},
     "output_type": "execute_result"
    }
   ],
   "source": [
    "array"
   ]
  },
  {
   "cell_type": "code",
   "execution_count": 5,
   "id": "fb5f203e",
   "metadata": {},
   "outputs": [
    {
     "data": {
      "text/plain": [
       "array([[0, 1, 2, 3, 4],\n",
       "       [0, 1, 2, 3, 4]])"
      ]
     },
     "execution_count": 5,
     "metadata": {},
     "output_type": "execute_result"
    }
   ],
   "source": [
    "array_2d=np.array([range(5),range(5)])\n",
    "array_2d"
   ]
  },
  {
   "cell_type": "code",
   "execution_count": 6,
   "id": "8dbb15ab",
   "metadata": {},
   "outputs": [
    {
     "data": {
      "text/plain": [
       "(5,)"
      ]
     },
     "execution_count": 6,
     "metadata": {},
     "output_type": "execute_result"
    }
   ],
   "source": [
    "array.shape"
   ]
  },
  {
   "cell_type": "code",
   "execution_count": 7,
   "id": "312717bb",
   "metadata": {},
   "outputs": [
    {
     "data": {
      "text/plain": [
       "(2, 5)"
      ]
     },
     "execution_count": 7,
     "metadata": {},
     "output_type": "execute_result"
    }
   ],
   "source": [
    "array_2d.shape"
   ]
  },
  {
   "cell_type": "code",
   "execution_count": 8,
   "id": "4c191816",
   "metadata": {},
   "outputs": [
    {
     "data": {
      "text/plain": [
       "5"
      ]
     },
     "execution_count": 8,
     "metadata": {},
     "output_type": "execute_result"
    }
   ],
   "source": [
    "array.size"
   ]
  },
  {
   "cell_type": "code",
   "execution_count": 9,
   "id": "3587eb2d",
   "metadata": {},
   "outputs": [
    {
     "data": {
      "text/plain": [
       "10"
      ]
     },
     "execution_count": 9,
     "metadata": {},
     "output_type": "execute_result"
    }
   ],
   "source": [
    "array_2d.size"
   ]
  },
  {
   "cell_type": "code",
   "execution_count": 10,
   "id": "61ff470e",
   "metadata": {},
   "outputs": [
    {
     "data": {
      "text/plain": [
       "(5, 2)"
      ]
     },
     "execution_count": 10,
     "metadata": {},
     "output_type": "execute_result"
    }
   ],
   "source": [
    "array_2d.T.shape"
   ]
  },
  {
   "cell_type": "code",
   "execution_count": 11,
   "id": "50420dad",
   "metadata": {},
   "outputs": [
    {
     "data": {
      "text/plain": [
       "1"
      ]
     },
     "execution_count": 11,
     "metadata": {},
     "output_type": "execute_result"
    }
   ],
   "source": [
    "array.ndim"
   ]
  },
  {
   "cell_type": "code",
   "execution_count": 12,
   "id": "80a33cea",
   "metadata": {},
   "outputs": [
    {
     "data": {
      "text/plain": [
       "2"
      ]
     },
     "execution_count": 12,
     "metadata": {},
     "output_type": "execute_result"
    }
   ],
   "source": [
    "array_2d.ndim"
   ]
  },
  {
   "cell_type": "code",
   "execution_count": 13,
   "id": "45edbdf9",
   "metadata": {},
   "outputs": [
    {
     "data": {
      "text/plain": [
       "dtype('int32')"
      ]
     },
     "execution_count": 13,
     "metadata": {},
     "output_type": "execute_result"
    }
   ],
   "source": [
    "array.dtype"
   ]
  },
  {
   "cell_type": "code",
   "execution_count": 14,
   "id": "aa1a976d",
   "metadata": {},
   "outputs": [
    {
     "data": {
      "text/plain": [
       "dtype('int32')"
      ]
     },
     "execution_count": 14,
     "metadata": {},
     "output_type": "execute_result"
    }
   ],
   "source": [
    "array_2d.dtype"
   ]
  },
  {
   "cell_type": "code",
   "execution_count": 15,
   "id": "13261d8d",
   "metadata": {},
   "outputs": [
    {
     "data": {
      "text/plain": [
       "array(['i', 'love', 'python'], dtype='<U6')"
      ]
     },
     "execution_count": 15,
     "metadata": {},
     "output_type": "execute_result"
    }
   ],
   "source": [
    "np.array(['i', 'love', 'python'])"
   ]
  },
  {
   "cell_type": "code",
   "execution_count": 16,
   "id": "6ce9a8d2",
   "metadata": {},
   "outputs": [],
   "source": [
    "my_list=[x*10 for x in range(1,11)]"
   ]
  },
  {
   "cell_type": "code",
   "execution_count": 17,
   "id": "a376501c",
   "metadata": {},
   "outputs": [],
   "source": [
    "array2=np.array(my_list)"
   ]
  },
  {
   "cell_type": "code",
   "execution_count": 18,
   "id": "2e3963f0",
   "metadata": {},
   "outputs": [
    {
     "data": {
      "text/plain": [
       "array([ 10,  20,  30,  40,  50,  60,  70,  80,  90, 100])"
      ]
     },
     "execution_count": 18,
     "metadata": {},
     "output_type": "execute_result"
    }
   ],
   "source": [
    "array2"
   ]
  },
  {
   "cell_type": "code",
   "execution_count": 19,
   "id": "b487c4ea",
   "metadata": {},
   "outputs": [
    {
     "data": {
      "text/plain": [
       "dtype('int32')"
      ]
     },
     "execution_count": 19,
     "metadata": {},
     "output_type": "execute_result"
    }
   ],
   "source": [
    "array2.dtype"
   ]
  },
  {
   "cell_type": "code",
   "execution_count": 20,
   "id": "67aadfe6",
   "metadata": {},
   "outputs": [
    {
     "data": {
      "text/plain": [
       "(10,)"
      ]
     },
     "execution_count": 20,
     "metadata": {},
     "output_type": "execute_result"
    }
   ],
   "source": [
    "array2.shape"
   ]
  },
  {
   "cell_type": "code",
   "execution_count": 21,
   "id": "30b8d7af",
   "metadata": {},
   "outputs": [
    {
     "data": {
      "text/plain": [
       "10"
      ]
     },
     "execution_count": 21,
     "metadata": {},
     "output_type": "execute_result"
    }
   ],
   "source": [
    "array2.size"
   ]
  },
  {
   "cell_type": "code",
   "execution_count": 22,
   "id": "916e3da3",
   "metadata": {},
   "outputs": [
    {
     "data": {
      "text/plain": [
       "array([[0.24742606],\n",
       "       [0.09299006],\n",
       "       [0.61176337],\n",
       "       [0.06066207],\n",
       "       [0.66103343],\n",
       "       [0.75515778],\n",
       "       [0.1108689 ],\n",
       "       [0.04305584],\n",
       "       [0.41441747],\n",
       "       [0.98862926]])"
      ]
     },
     "execution_count": 22,
     "metadata": {},
     "output_type": "execute_result"
    }
   ],
   "source": [
    "array=np.random.default_rng(2022)\n",
    "array.random(10).reshape(10,1)"
   ]
  },
  {
   "cell_type": "code",
   "execution_count": 23,
   "id": "77fc9de8",
   "metadata": {},
   "outputs": [
    {
     "data": {
      "text/plain": [
       "array([17.11953284, 20.15777538])"
      ]
     },
     "execution_count": 23,
     "metadata": {},
     "output_type": "execute_result"
    }
   ],
   "source": [
    "array.normal(20,2,2)"
   ]
  },
  {
   "cell_type": "code",
   "execution_count": 35,
   "id": "f28a4267",
   "metadata": {},
   "outputs": [
    {
     "data": {
      "text/plain": [
       "array([[0, 1, 2, 3, 4],\n",
       "       [5, 6, 7, 8, 9]])"
      ]
     },
     "execution_count": 35,
     "metadata": {},
     "output_type": "execute_result"
    }
   ],
   "source": [
    "sales=np.arange(0,10).reshape(2,5)\n",
    "sales"
   ]
  },
  {
   "cell_type": "code",
   "execution_count": 42,
   "id": "ce5d580f",
   "metadata": {},
   "outputs": [
    {
     "data": {
      "text/plain": [
       "array([[ 5,  6,  7,  8,  9],\n",
       "       [10, 11, 12, 13, 14]])"
      ]
     },
     "execution_count": 42,
     "metadata": {},
     "output_type": "execute_result"
    }
   ],
   "source": [
    "sales +5"
   ]
  },
  {
   "cell_type": "code",
   "execution_count": 43,
   "id": "5ca95c7b",
   "metadata": {},
   "outputs": [
    {
     "data": {
      "text/plain": [
       "array([ 0,  6, 14, 24, 36])"
      ]
     },
     "execution_count": 43,
     "metadata": {},
     "output_type": "execute_result"
    }
   ],
   "source": [
    "quantity=sales[0,]\n",
    "price=sales[1,]\n",
    "quantity*price"
   ]
  },
  {
   "cell_type": "code",
   "execution_count": 45,
   "id": "7b5efe72",
   "metadata": {},
   "outputs": [
    {
     "data": {
      "text/plain": [
       "array([39, 39, 93, 86, 48, 46, 48, 30, 11, 57], dtype=int64)"
      ]
     },
     "execution_count": 45,
     "metadata": {},
     "output_type": "execute_result"
    }
   ],
   "source": [
    "import numpy as np\n",
    "rng=np.random.default_rng(616)\n",
    "inventory=rng.integers(0,100,10)\n",
    "inventory"
   ]
  },
  {
   "cell_type": "code",
   "execution_count": 46,
   "id": "ed2d208a",
   "metadata": {},
   "outputs": [
    {
     "data": {
      "text/plain": [
       "array([ 15,  15,  69,  62,  24,  22,  24,   6, -13,  33], dtype=int64)"
      ]
     },
     "execution_count": 46,
     "metadata": {},
     "output_type": "execute_result"
    }
   ],
   "source": [
    "inventory-24"
   ]
  },
  {
   "cell_type": "code",
   "execution_count": 47,
   "id": "cf8b31f4",
   "metadata": {},
   "outputs": [
    {
     "data": {
      "text/plain": [
       "array([390, 390, 930, 860, 480, 460, 480, 300, 110, 570], dtype=int64)"
      ]
     },
     "execution_count": 47,
     "metadata": {},
     "output_type": "execute_result"
    }
   ],
   "source": [
    "inventory*10"
   ]
  },
  {
   "cell_type": "code",
   "execution_count": 55,
   "id": "b5cfd416",
   "metadata": {},
   "outputs": [
    {
     "data": {
      "text/plain": [
       "array([19.5, 19.5, 46.5, 43. , 24. , 23. , 24. , 15. ,  5.5, 28.5])"
      ]
     },
     "execution_count": 55,
     "metadata": {},
     "output_type": "execute_result"
    }
   ],
   "source": [
    "inventory/2"
   ]
  },
  {
   "cell_type": "code",
   "execution_count": 56,
   "id": "803c5bdf",
   "metadata": {},
   "outputs": [
    {
     "data": {
      "text/plain": [
       "array([3.74, 0.37, 4.37, 5.7 , 1.97, 2.87, 7.76, 2.24, 4.91, 6.35])"
      ]
     },
     "execution_count": 56,
     "metadata": {},
     "output_type": "execute_result"
    }
   ],
   "source": [
    "price=(rng.random(10)*10).round(2)\n",
    "price"
   ]
  },
  {
   "cell_type": "code",
   "execution_count": 57,
   "id": "e9e3f787",
   "metadata": {},
   "outputs": [
    {
     "data": {
      "text/plain": [
       "array([145.86,  14.43, 406.41, 490.2 ,  94.56, 132.02, 372.48,  67.2 ,\n",
       "        54.01, 361.95])"
      ]
     },
     "execution_count": 57,
     "metadata": {},
     "output_type": "execute_result"
    }
   ],
   "source": [
    "price*inventory"
   ]
  },
  {
   "cell_type": "code",
   "execution_count": null,
   "id": "205da42d",
   "metadata": {},
   "outputs": [],
   "source": []
  }
 ],
 "metadata": {
  "kernelspec": {
   "display_name": "Python 3 (ipykernel)",
   "language": "python",
   "name": "python3"
  },
  "language_info": {
   "codemirror_mode": {
    "name": "ipython",
    "version": 3
   },
   "file_extension": ".py",
   "mimetype": "text/x-python",
   "name": "python",
   "nbconvert_exporter": "python",
   "pygments_lexer": "ipython3",
   "version": "3.9.13"
  }
 },
 "nbformat": 4,
 "nbformat_minor": 5
}
