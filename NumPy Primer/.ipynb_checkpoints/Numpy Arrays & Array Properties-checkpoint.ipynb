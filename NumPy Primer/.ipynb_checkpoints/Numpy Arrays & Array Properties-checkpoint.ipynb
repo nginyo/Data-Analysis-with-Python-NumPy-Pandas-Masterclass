{
 "cells": [
  {
   "cell_type": "code",
   "execution_count": 2,
   "id": "e79ce364",
   "metadata": {},
   "outputs": [],
   "source": [
    "import numpy as np"
   ]
  },
  {
   "cell_type": "code",
   "execution_count": 3,
   "id": "7e37f670",
   "metadata": {},
   "outputs": [],
   "source": [
    "array=np.array(range(5))"
   ]
  },
  {
   "cell_type": "code",
   "execution_count": 5,
   "id": "6e57e381",
   "metadata": {},
   "outputs": [
    {
     "data": {
      "text/plain": [
       "array([0, 1, 2, 3, 4])"
      ]
     },
     "execution_count": 5,
     "metadata": {},
     "output_type": "execute_result"
    }
   ],
   "source": [
    "array"
   ]
  },
  {
   "cell_type": "code",
   "execution_count": 9,
   "id": "fb5f203e",
   "metadata": {},
   "outputs": [
    {
     "data": {
      "text/plain": [
       "array([[0, 1, 2, 3, 4],\n",
       "       [0, 1, 2, 3, 4]])"
      ]
     },
     "execution_count": 9,
     "metadata": {},
     "output_type": "execute_result"
    }
   ],
   "source": [
    "array_2d=np.array([range(5),range(5)])\n",
    "array_2d"
   ]
  },
  {
   "cell_type": "code",
   "execution_count": 10,
   "id": "8dbb15ab",
   "metadata": {},
   "outputs": [
    {
     "data": {
      "text/plain": [
       "(5,)"
      ]
     },
     "execution_count": 10,
     "metadata": {},
     "output_type": "execute_result"
    }
   ],
   "source": [
    "array.shape"
   ]
  },
  {
   "cell_type": "code",
   "execution_count": 11,
   "id": "312717bb",
   "metadata": {},
   "outputs": [
    {
     "data": {
      "text/plain": [
       "(2, 5)"
      ]
     },
     "execution_count": 11,
     "metadata": {},
     "output_type": "execute_result"
    }
   ],
   "source": [
    "array_2d.shape"
   ]
  },
  {
   "cell_type": "code",
   "execution_count": 12,
   "id": "4c191816",
   "metadata": {},
   "outputs": [
    {
     "data": {
      "text/plain": [
       "5"
      ]
     },
     "execution_count": 12,
     "metadata": {},
     "output_type": "execute_result"
    }
   ],
   "source": [
    "array.size"
   ]
  },
  {
   "cell_type": "code",
   "execution_count": 14,
   "id": "3587eb2d",
   "metadata": {},
   "outputs": [
    {
     "data": {
      "text/plain": [
       "10"
      ]
     },
     "execution_count": 14,
     "metadata": {},
     "output_type": "execute_result"
    }
   ],
   "source": [
    "array_2d.size"
   ]
  },
  {
   "cell_type": "code",
   "execution_count": 15,
   "id": "61ff470e",
   "metadata": {},
   "outputs": [
    {
     "data": {
      "text/plain": [
       "(5, 2)"
      ]
     },
     "execution_count": 15,
     "metadata": {},
     "output_type": "execute_result"
    }
   ],
   "source": [
    "array_2d.T.shape"
   ]
  },
  {
   "cell_type": "code",
   "execution_count": 16,
   "id": "50420dad",
   "metadata": {},
   "outputs": [
    {
     "data": {
      "text/plain": [
       "1"
      ]
     },
     "execution_count": 16,
     "metadata": {},
     "output_type": "execute_result"
    }
   ],
   "source": [
    "array.ndim"
   ]
  },
  {
   "cell_type": "code",
   "execution_count": 17,
   "id": "80a33cea",
   "metadata": {},
   "outputs": [
    {
     "data": {
      "text/plain": [
       "2"
      ]
     },
     "execution_count": 17,
     "metadata": {},
     "output_type": "execute_result"
    }
   ],
   "source": [
    "array_2d.ndim"
   ]
  },
  {
   "cell_type": "code",
   "execution_count": 18,
   "id": "45edbdf9",
   "metadata": {},
   "outputs": [
    {
     "data": {
      "text/plain": [
       "dtype('int32')"
      ]
     },
     "execution_count": 18,
     "metadata": {},
     "output_type": "execute_result"
    }
   ],
   "source": [
    "array.dtype"
   ]
  },
  {
   "cell_type": "code",
   "execution_count": 19,
   "id": "aa1a976d",
   "metadata": {},
   "outputs": [
    {
     "data": {
      "text/plain": [
       "dtype('int32')"
      ]
     },
     "execution_count": 19,
     "metadata": {},
     "output_type": "execute_result"
    }
   ],
   "source": [
    "array_2d.dtype"
   ]
  },
  {
   "cell_type": "code",
   "execution_count": 20,
   "id": "13261d8d",
   "metadata": {},
   "outputs": [
    {
     "data": {
      "text/plain": [
       "array(['i', 'love', 'python'], dtype='<U6')"
      ]
     },
     "execution_count": 20,
     "metadata": {},
     "output_type": "execute_result"
    }
   ],
   "source": [
    "np.array(['i', 'love', 'python'])"
   ]
  },
  {
   "cell_type": "code",
   "execution_count": 22,
   "id": "6ce9a8d2",
   "metadata": {},
   "outputs": [],
   "source": [
    "my_list=[x*10 for x in range(1,11)]"
   ]
  },
  {
   "cell_type": "code",
   "execution_count": 23,
   "id": "a376501c",
   "metadata": {},
   "outputs": [],
   "source": [
    "array2=np.array(my_list)"
   ]
  },
  {
   "cell_type": "code",
   "execution_count": 24,
   "id": "2e3963f0",
   "metadata": {},
   "outputs": [
    {
     "data": {
      "text/plain": [
       "array([ 10,  20,  30,  40,  50,  60,  70,  80,  90, 100])"
      ]
     },
     "execution_count": 24,
     "metadata": {},
     "output_type": "execute_result"
    }
   ],
   "source": [
    "array2"
   ]
  },
  {
   "cell_type": "code",
   "execution_count": 25,
   "id": "b487c4ea",
   "metadata": {},
   "outputs": [
    {
     "data": {
      "text/plain": [
       "dtype('int32')"
      ]
     },
     "execution_count": 25,
     "metadata": {},
     "output_type": "execute_result"
    }
   ],
   "source": [
    "array2.dtype"
   ]
  },
  {
   "cell_type": "code",
   "execution_count": 26,
   "id": "67aadfe6",
   "metadata": {},
   "outputs": [
    {
     "data": {
      "text/plain": [
       "(10,)"
      ]
     },
     "execution_count": 26,
     "metadata": {},
     "output_type": "execute_result"
    }
   ],
   "source": [
    "array2.shape"
   ]
  },
  {
   "cell_type": "code",
   "execution_count": 27,
   "id": "30b8d7af",
   "metadata": {},
   "outputs": [
    {
     "data": {
      "text/plain": [
       "10"
      ]
     },
     "execution_count": 27,
     "metadata": {},
     "output_type": "execute_result"
    }
   ],
   "source": [
    "array2.size"
   ]
  },
  {
   "cell_type": "code",
   "execution_count": null,
   "id": "916e3da3",
   "metadata": {},
   "outputs": [],
   "source": [
    "array=np.random."
   ]
  }
 ],
 "metadata": {
  "kernelspec": {
   "display_name": "Python 3 (ipykernel)",
   "language": "python",
   "name": "python3"
  },
  "language_info": {
   "codemirror_mode": {
    "name": "ipython",
    "version": 3
   },
   "file_extension": ".py",
   "mimetype": "text/x-python",
   "name": "python",
   "nbconvert_exporter": "python",
   "pygments_lexer": "ipython3",
   "version": "3.9.13"
  }
 },
 "nbformat": 4,
 "nbformat_minor": 5
}
